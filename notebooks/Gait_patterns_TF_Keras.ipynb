{
  "nbformat": 4,
  "nbformat_minor": 0,
  "metadata": {
    "colab": {
      "name": "Gait patterns classification with TF.Keras",
      "version": "0.3.2",
      "provenance": [],
      "private_outputs": true,
      "collapsed_sections": [],
      "toc_visible": true,
      "include_colab_link": true
    },
    "kernelspec": {
      "name": "python3",
      "display_name": "Python 3"
    },
    "accelerator": "GPU"
  },
  "cells": [
    {
      "cell_type": "markdown",
      "metadata": {
        "id": "view-in-github",
        "colab_type": "text"
      },
      "source": [
        "<a href=\"https://colab.research.google.com/github/ignazioa/python-api-example/blob/master/notebooks/Gait_patterns_TF_Keras.ipynb\" target=\"_parent\"><img src=\"https://colab.research.google.com/assets/colab-badge.svg\" alt=\"Open In Colab\"/></a>"
      ]
    },
    {
      "cell_type": "markdown",
      "metadata": {
        "id": "MflplLFfDXng",
        "colab_type": "text"
      },
      "source": [
        "##Gait patterns classification with TF.Keras and Moveshelf API\n",
        "         \n",
        "Step-by-step walkthrough to build a basic (MLP) gait classifier that can be used to identify Diplegic Gait patterns, using Moveshelf, TensorFlow and Keras   \n",
        "Visit https://moveshelf.com/movement-science to know more.    \n",
        "\n",
        "*Copyright Moveshelf Labs B.V. 2019.*"
      ]
    },
    {
      "cell_type": "markdown",
      "metadata": {
        "id": "CBfX68v99Dmy",
        "colab_type": "text"
      },
      "source": [
        "####Goals: \n",
        "*   Build a gait pattern classifier using an existing Gait Analsysis dataset\n",
        "    \n",
        "####Prerequisites: \n",
        "*   Basic Python understanding ;-) \n",
        "*   A Moveshelf account with API key <br>(free signup on https://moveshelf.com/movement-science and instructions of https://github.com/moveshelf/python-api-example )"
      ]
    },
    {
      "cell_type": "markdown",
      "metadata": {
        "id": "yOVJ0RqSwMkj",
        "colab_type": "text"
      },
      "source": [
        "##Setup your environment"
      ]
    },
    {
      "cell_type": "markdown",
      "metadata": {
        "id": "Md42WSnFDaN-",
        "colab_type": "text"
      },
      "source": [
        "###Import dependencies"
      ]
    },
    {
      "cell_type": "markdown",
      "metadata": {
        "id": "mXnw-bgqAx8Z",
        "colab_type": "text"
      },
      "source": [
        "Simply copy Moveshelf Python API's example repository in a dedicated local directory.    \n",
        "These API and helpers are used to securely access Movement Analysis data remotely stored on Moveshelf."
      ]
    },
    {
      "cell_type": "code",
      "metadata": {
        "id": "a0GU2NfwImM4",
        "colab_type": "code",
        "colab": {}
      },
      "source": [
        "!git clone https://github.com/moveshelf/python-api-example.git mvshlfpy\n",
        "!pip install mypy_extensions"
      ],
      "execution_count": 0,
      "outputs": []
    },
    {
      "cell_type": "markdown",
      "metadata": {
        "id": "RUjTG5J9BBa9",
        "colab_type": "text"
      },
      "source": [
        "Import required packages in this environment: basic numerical packages as well as [TensorFlow](https://www.tensorflow.org) and [Keras](https://keras.io/)"
      ]
    },
    {
      "cell_type": "code",
      "metadata": {
        "id": "Kxpo2BSXoz1E",
        "colab_type": "code",
        "colab": {}
      },
      "source": [
        "#Math and plot utils\n",
        "import numpy as np\n",
        "import matplotlib.pyplot as plt\n",
        "import IPython\n",
        "\n",
        "# TensorFlow and Keras\n",
        "from __future__ import absolute_import, division, print_function, unicode_literals\n",
        "import tensorflow as tf\n",
        "from tensorflow import keras\n",
        "\n",
        "from mvshlfpy import api, helpers, datasets"
      ],
      "execution_count": 0,
      "outputs": []
    },
    {
      "cell_type": "markdown",
      "metadata": {
        "id": "xyYo1-vgBtdy",
        "colab_type": "text"
      },
      "source": [
        "###Setup your Moveshelf API\n",
        "Make sure your API key is uploaded within this environment **as file**  \n",
        "(once downloaded from Moveshelf it is by default named 'mvshlf-api-key.json' and it can be uploaded under the 'Files' tab here on the left side, as showed below).![alt text](http://static.moveshelf.com/ms-cc/api_upload.png)    \n",
        "Further instructions are available on https://forum.moveshelf.com/t/getting-an-api-key/32 "
      ]
    },
    {
      "cell_type": "code",
      "metadata": {
        "id": "1kha5VatI9Yh",
        "colab_type": "code",
        "colab": {}
      },
      "source": [
        "mvshlfapi = api.MoveshelfApi('mvshlf-api-key.json') #read more on https://forum.moveshelf.com/t/getting-an-api-key/32"
      ],
      "execution_count": 0,
      "outputs": []
    },
    {
      "cell_type": "markdown",
      "metadata": {
        "id": "HTSMOJhKwUC-",
        "colab_type": "text"
      },
      "source": [
        "##Prepare your data"
      ]
    },
    {
      "cell_type": "markdown",
      "metadata": {
        "id": "82QbL4rKDPf8",
        "colab_type": "text"
      },
      "source": [
        "###Load dataset\n",
        "As anticipated we will use a prepopulated Diplegic gait patterns dataset available at: https://moveshelf.com/project/UHJvamVjdKZkEQa_4U15n6DPj_SgaMY  "
      ]
    },
    {
      "cell_type": "code",
      "metadata": {
        "id": "IHEl71HU5_Xk",
        "colab_type": "code",
        "colab": {}
      },
      "source": [
        "projectId = \"UHJvamVjdKZkEQa_4U15n6DPj_SgaMY\" #it's simply the last part of the url https://moveshelf.com/project/<projectId>\n",
        "\n",
        "cp01 = datasets.Dataset(mvshlfapi, projectId)\n",
        "cp01.load_data()"
      ],
      "execution_count": 0,
      "outputs": []
    },
    {
      "cell_type": "markdown",
      "metadata": {
        "id": "F4eRgnULDeRe",
        "colab_type": "text"
      },
      "source": [
        "###Define training and test sets"
      ]
    },
    {
      "cell_type": "markdown",
      "metadata": {
        "id": "e_4_nDirCyZ3",
        "colab_type": "text"
      },
      "source": [
        "For fair evaluation of our model during tests, let's split the dataset in training and test sets (~80% training and 20% test)"
      ]
    },
    {
      "cell_type": "code",
      "metadata": {
        "id": "2-vSd4r1pdBy",
        "colab_type": "code",
        "colab": {}
      },
      "source": [
        "(train_patterns, train_classes) = cp01.get_training_set()\n",
        "(test_patterns, test_classes) = cp01.get_test_set()\n",
        "classes_labels = cp01.get_labels()\n",
        "\n",
        "print(\"Training set: \" + str(train_patterns.shape))\n",
        "print(\"Test set: \" + str(test_patterns.shape))\n",
        "print(\"Classes: \" + str(classes_labels))"
      ],
      "execution_count": 0,
      "outputs": []
    },
    {
      "cell_type": "markdown",
      "metadata": {
        "id": "J023k28LDqNf",
        "colab_type": "text"
      },
      "source": [
        "###Gait patterns definition\n",
        "To train our classifier we will use only used normalized joint kinematics information. All axsis of all available joints are represented with respect to gait cycle percentage, and stacked together in a nice gait-pattern ;-) "
      ]
    },
    {
      "cell_type": "code",
      "metadata": {
        "id": "dAo_zNydAYqN",
        "colab_type": "code",
        "colab": {}
      },
      "source": [
        "ax = plt.imshow(train_patterns[0, :, :])\n",
        "ax = plt.title(classes_labels[int(train_classes[0])])\n",
        "ax = plt.xlabel(\"Gait cycle %\")\n",
        "ax = plt.ylabel(\"Joint axis\")"
      ],
      "execution_count": 0,
      "outputs": []
    },
    {
      "cell_type": "markdown",
      "metadata": {
        "id": "49r0wtqWwYIG",
        "colab_type": "text"
      },
      "source": [
        "##Prepare your classifier"
      ]
    },
    {
      "cell_type": "markdown",
      "metadata": {
        "id": "tx5m2bOkDu6F",
        "colab_type": "text"
      },
      "source": [
        "###Setup the model of our simple classifier"
      ]
    },
    {
      "cell_type": "markdown",
      "metadata": {
        "id": "i46HS3WKDjR0",
        "colab_type": "text"
      },
      "source": [
        "For this example we will build a basic MLP classifier using a standard [sequential model](https://keras.io/getting-started/sequential-model-guide/) that maps the joint kinematics values into a dense layer and finally to a output one.  "
      ]
    },
    {
      "cell_type": "code",
      "metadata": {
        "id": "d_OSLSVsppDT",
        "colab_type": "code",
        "colab": {}
      },
      "source": [
        "#basic classifier \n",
        "model = keras.Sequential([\n",
        "    keras.layers.Flatten(input_shape=(36, 100)), #maps input pattern\n",
        "    keras.layers.Dense(25, activation=tf.nn.relu), #magic happens here\n",
        "    keras.layers.Dropout(0.1), #helps avoiding overfitting on the (small) training set\n",
        "    keras.layers.Dense(4, activation=tf.nn.softmax) #read more on https://keras.io/optimizers/ \n",
        "])\n",
        "\n",
        "model.compile(optimizer=keras.optimizers.Adam(lr=0.00005),\n",
        "              loss='sparse_categorical_crossentropy',\n",
        "              metrics=['accuracy'])"
      ],
      "execution_count": 0,
      "outputs": []
    },
    {
      "cell_type": "markdown",
      "metadata": {
        "id": "n2-L_mAhD2bJ",
        "colab_type": "text"
      },
      "source": [
        "###Train the classifier"
      ]
    },
    {
      "cell_type": "markdown",
      "metadata": {
        "id": "Bb06mbkgFAAY",
        "colab_type": "text"
      },
      "source": [
        "After all this preparation let's feed our training set to the optimizer to fit our model, in batches. "
      ]
    },
    {
      "cell_type": "code",
      "metadata": {
        "id": "qJ-C6oX9D1N1",
        "colab_type": "code",
        "colab": {}
      },
      "source": [
        "history = model.fit(train_patterns, train_classes, epochs=200, batch_size=25)"
      ],
      "execution_count": 0,
      "outputs": []
    },
    {
      "cell_type": "markdown",
      "metadata": {
        "id": "H1xcl5XHD434",
        "colab_type": "text"
      },
      "source": [
        "###Test accuracy of the model with our test set"
      ]
    },
    {
      "cell_type": "markdown",
      "metadata": {
        "id": "Bsh3fvvqFlHx",
        "colab_type": "text"
      },
      "source": [
        "So far so good, training accuracy and loss functions suggests that the model is well trained but ... how do we know there is no overfit? Let's evaluate the model using our test set.  "
      ]
    },
    {
      "cell_type": "code",
      "metadata": {
        "id": "wNmkyT2A27jY",
        "colab_type": "code",
        "colab": {}
      },
      "source": [
        "test_loss, test_acc = model.evaluate(test_patterns, test_classes)"
      ],
      "execution_count": 0,
      "outputs": []
    },
    {
      "cell_type": "markdown",
      "metadata": {
        "id": "ZKKzharaEHUP",
        "colab_type": "text"
      },
      "source": [
        "##Make your first prediction!"
      ]
    },
    {
      "cell_type": "markdown",
      "metadata": {
        "id": "7EEXu83PEmiW",
        "colab_type": "text"
      },
      "source": [
        "OK cool, the evaluation on the test set confirms that our model is doing rather well (right??) ...    \n",
        "So, let's use one of the test patterns to see how our model's prediction look like.    \n",
        "First select a gait session id from our test set and visually inspect the 3D marker data."
      ]
    },
    {
      "cell_type": "code",
      "metadata": {
        "id": "u5RWIcic8nMT",
        "colab_type": "code",
        "colab": {}
      },
      "source": [
        "example = 0\n",
        "clipId = cp01.get_test_ids()[example]\n",
        "\n",
        "htmlstr ='<iframe src=\"https://moveshelf.com/embed/'+ clipId + '?autoplay=true\" width=\"600px\" height=\"350px\" scrolling=\"no\" frameborder=\"0\" allowfullscreen allow=\"vr\" style=\"margin-right: 10px\"></iframe>'\n",
        "IPython.display.HTML(htmlstr) #read more on https://forum.moveshelf.com/t/how-to-embed-moveshelf-on-your-webpage-and-on-this-forum/31"
      ],
      "execution_count": 0,
      "outputs": []
    },
    {
      "cell_type": "markdown",
      "metadata": {
        "id": "2qnfQgr8_mTY",
        "colab_type": "text"
      },
      "source": [
        "Did you recognize the pattern? Let's see if our model can do a similarly good job!"
      ]
    },
    {
      "cell_type": "code",
      "metadata": {
        "id": "z5ADTCPQ4FFG",
        "colab_type": "code",
        "colab": {}
      },
      "source": [
        "predictions = model.predict(test_patterns[[example], :, :])\n",
        "n_classes = len(classes_labels)\n",
        "plt.bar(range(n_classes), predictions[0], color='gray')\n",
        "plt.xticks(range(n_classes), classes_labels, rotation=70)\n",
        "if( np.argmax(predictions[0]) == test_classes[example]):\n",
        "  color = '#25aee6' #prediction is correct\n",
        "else:\n",
        "  color = 'red' #prediction is wrong :(\n",
        "ax = plt.bar(np.argmax(predictions[0]), np.max(predictions[0]), color=color)"
      ],
      "execution_count": 0,
      "outputs": []
    },
    {
      "cell_type": "markdown",
      "metadata": {
        "id": "HbjxED4pFVmo",
        "colab_type": "text"
      },
      "source": [
        "##Conclusion\n",
        "Well done! Your classifier is well trained and ready to be deployed in the wild and on Moveshelf ;-) "
      ]
    }
  ]
}